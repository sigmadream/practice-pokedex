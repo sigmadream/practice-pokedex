{
 "cells": [
  {
   "metadata": {},
   "cell_type": "code",
   "source": [
    "import json\n",
    "import pandas as pd\n",
    "import urllib.request\n",
    "import urllib.parse\n",
    "\n",
    "from urllib.parse import urlsplit, quote\n",
    "from urllib.request import Request, urlopen\n",
    "\n",
    "from bs4 import BeautifulSoup\n",
    "from tqdm import tqdm"
   ],
   "id": "83da0e214a663aef",
   "outputs": [],
   "execution_count": null
  },
  {
   "metadata": {},
   "cell_type": "code",
   "source": [
    "url_path_1g = 'https://pokemon.fandom.com/ko/wiki/전국도감/1세대'\n",
    "url_path_2g = 'https://pokemon.fandom.com/ko/wiki/전국도감/2세대'\n",
    "url_path_3g = 'https://pokemon.fandom.com/ko/wiki/전국도감/3세대'\n",
    "url_path_4g = 'https://pokemon.fandom.com/ko/wiki/전국도감/4세대'\n",
    "url_path_5g = 'https://pokemon.fandom.com/ko/wiki/전국도감/5세대'\n",
    "url_path_6g = 'https://pokemon.fandom.com/ko/wiki/전국도감/6세대'\n",
    "url_path_7g = 'https://pokemon.fandom.com/ko/wiki/전국도감/7세대'\n",
    "url_path_8g = 'https://pokemon.fandom.com/ko/wiki/전국도감/8세대'\n",
    "url_path_9g = 'https://pokemon.fandom.com/ko/wiki/전국도감/9세대'"
   ],
   "id": "66ad09343f56ecab",
   "outputs": [],
   "execution_count": null
  },
  {
   "metadata": {},
   "cell_type": "code",
   "source": [
    "def get_pokedex_list(url_path):\n",
    "    url_info = urlsplit(url_path)\n",
    "    encoded_url = f'{url_info.scheme}://{url_info.netloc}{quote(url_info.path)}'\n",
    "    req = Request(encoded_url, headers={'User-Agent': 'Mozilla/5.0'})\n",
    "    res = urlopen(req)\n",
    "    html = res.read()\n",
    "    soup = BeautifulSoup(html, 'html.parser')\n",
    "    data = []\n",
    "    for tr in soup.table.findAll(\"tr\"):\n",
    "        if tr.th:\n",
    "            headers = [row.text.strip() for row in tr.findAll(\"th\")]\n",
    "        else:\n",
    "            cells = tr.findAll(\"td\")\n",
    "            img_url = tr.find(\"img\").get(\"data-src\", None)\n",
    "            if img_url is None:\n",
    "                img_url = tr.find(\"img\")['src']\n",
    "            datum = [row.text.strip() for row in cells]\n",
    "            types = [types.text for types in cells[-1].findAll(\"a\")]\n",
    "            datum[2] = img_url\n",
    "            datum[-1] = \"+\".join(types)\n",
    "            data.append(datum)\n",
    "    df = pd.DataFrame(data, columns=headers)\n",
    "    df.drop(df.columns[0], axis=1, inplace=True)\n",
    "    return df"
   ],
   "id": "4932d158d54f24ba",
   "outputs": [],
   "execution_count": null
  },
  {
   "metadata": {},
   "cell_type": "code",
   "source": "get_pokedex_list(url_path_4g)",
   "id": "94401bbb756ece08",
   "outputs": [],
   "execution_count": null
  },
  {
   "metadata": {},
   "cell_type": "code",
   "source": [
    "def get_pokedex_to_json(target_number=1017):\n",
    "    url_path = urlsplit('https://pokemon.fandom.com/ko/wiki/이상해씨_(포켓몬)')\n",
    "    encoded_url = f'{url_path.scheme}://{url_path.netloc}{quote(url_path.path)}'\n",
    "    info = []\n",
    "    cnt = 0\n",
    "    for _ in tqdm(range(target_number + 2)):\n",
    "        cnt += 1\n",
    "        req = Request(encoded_url, headers={'User-Agent': 'Mozilla/5.0'})\n",
    "        res = urlopen(req)\n",
    "        html = res.read()\n",
    "        soup = BeautifulSoup(html, 'html.parser')\n",
    "\n",
    "        name = soup.find(\"div\", {\"class\": \"name-ko\"}).text.strip()\n",
    "        number = soup.find(\"div\", {\"class\": \"index\"}).text.strip()\n",
    "        try:\n",
    "            img_url = soup.find(\"div\", {\"class\": \"image rounded\"}).find(\"a\", {\"class\": \"image\"})[\"href\"]\n",
    "            filepath = f\"images/{number.replace('.', '_')}_{name}.png\"\n",
    "            urllib.request.urlretrieve(img_url, filepath)\n",
    "        except:\n",
    "            filepath = None\n",
    "        doc_text = '\\n'.join([p.text.replace('\\n', '').strip() for p in soup.find_all(\"p\")])\n",
    "        types = [poke_type['title'].split(' ')[0].strip() for poke_type in\n",
    "                 soup.select('tbody > tr > td > div')[0].select('span > a')]\n",
    "\n",
    "        info.append(dict(\n",
    "            name=name,\n",
    "            number=number,\n",
    "            types=types,\n",
    "            doc_text=doc_text,\n",
    "            image_path=filepath,\n",
    "            url=encoded_url\n",
    "        ))\n",
    "        next_monster = soup.find(\"table\").findAll(\"a\")[-1]['href']\n",
    "        encoded_url = \"https://pokemon.fandom.com\" + next_monster\n",
    "        if number == f\"No.{target_number:04d}\":\n",
    "            break\n",
    "        if cnt >= target_number:\n",
    "            break\n",
    "\n",
    "    pd.DataFrame(info).to_csv('pokemon.csv', index=False)\n",
    "    with open('pokemon.json', 'w') as f:\n",
    "        json.dump(info, f, ensure_ascii=False, indent=4)"
   ],
   "id": "cbd9fa58dcbccd68",
   "outputs": [],
   "execution_count": null
  },
  {
   "metadata": {},
   "cell_type": "code",
   "source": "get_pokedex_to_json(1)",
   "id": "736118e1a03e3ba",
   "outputs": [],
   "execution_count": null
  },
  {
   "metadata": {},
   "cell_type": "code",
   "source": [
    "import cairosvg\n",
    "\n",
    "svg_code = '''\n",
    "<svg xmlns=\"http://www.w3.org/2000/svg\" xmlns:xlink=\"http://www.w3.org/1999/xlink\" viewBox=\"0 0 18 18\" width=\"1em\" height=\"1em\">\n",
    "    <defs>\n",
    "        <path id=\"IconImagesSmall__a\" d=\"M11 15h-.586L3 7.586V7h8v8zm-8 0v-4.586L7.586 15H3zm9-10a1 1 0 011 1v10a1 1 0 01-1 1H2a1 1 0 01-1-1V6a1 1 0 011-1h10zm4-4a1 1 0 011 1v10a1 1 0 11-2 0V3H6a1 1 0 110-2h10z\"></path>\n",
    "    </defs>\n",
    "    <use xlink:href=\"#IconImagesSmall__a\" fill-rule=\"evenodd\"></use>\n",
    "</svg>\n",
    "'''\n",
    "\n",
    "# SVG를 PNG로 변환하고 파일로 저장\n",
    "\n",
    "\n",
    "print(\"SVG가 PNG 파일로 성공적으로 저장되었습니다.\")"
   ],
   "id": "60740a46c2b3f539",
   "outputs": [],
   "execution_count": null
  }
 ],
 "metadata": {
  "kernelspec": {
   "display_name": "Python 3",
   "language": "python",
   "name": "python3"
  },
  "language_info": {
   "codemirror_mode": {
    "name": "ipython",
    "version": 2
   },
   "file_extension": ".py",
   "mimetype": "text/x-python",
   "name": "python",
   "nbconvert_exporter": "python",
   "pygments_lexer": "ipython2",
   "version": "2.7.6"
  }
 },
 "nbformat": 4,
 "nbformat_minor": 5
}
